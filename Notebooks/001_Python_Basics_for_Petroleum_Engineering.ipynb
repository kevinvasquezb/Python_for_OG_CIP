{
  "cells": [
    {
      "cell_type": "markdown",
      "id": "912538eb",
      "metadata": {
        "id": "912538eb"
      },
      "source": [
        "# INFORMATION\n",
        "- Data Type\n",
        "- Operators\n",
        "- Data Structures\n",
        "- Control Flow Structures\n",
        "- Function\n",
        "- Practice"
      ]
    },
    {
      "cell_type": "code",
      "execution_count": null,
      "id": "4ffe9291",
      "metadata": {
        "scrolled": true,
        "id": "4ffe9291",
        "outputId": "fbecf2c7-5f26-441f-8d3e-34f8c93bf1ee"
      },
      "outputs": [
        {
          "name": "stdout",
          "output_type": "stream",
          "text": [
            "HELLO WORLD\n"
          ]
        }
      ],
      "source": [
        "print('HELLO WORLD')"
      ]
    },
    {
      "cell_type": "markdown",
      "id": "df08c770",
      "metadata": {
        "id": "df08c770"
      },
      "source": [
        "> # DATA TYPE\n",
        "Numeric - Booleans - Text"
      ]
    },
    {
      "cell_type": "code",
      "execution_count": null,
      "id": "4839ff2e",
      "metadata": {
        "id": "4839ff2e",
        "outputId": "32caf2a2-9c7d-4f18-aa32-d99efbac8677"
      },
      "outputs": [
        {
          "data": {
            "text/plain": [
              "float"
            ]
          },
          "execution_count": 2,
          "metadata": {},
          "output_type": "execute_result"
        }
      ],
      "source": [
        "V_voids = 0.3\n",
        "type(V_voids)"
      ]
    },
    {
      "cell_type": "code",
      "execution_count": null,
      "id": "674a5571",
      "metadata": {
        "id": "674a5571",
        "outputId": "f639377c-dbc7-4cad-c9b6-2d679ec60317"
      },
      "outputs": [
        {
          "data": {
            "text/plain": [
              "int"
            ]
          },
          "execution_count": 3,
          "metadata": {},
          "output_type": "execute_result"
        }
      ],
      "source": [
        "Total_volume = 1\n",
        "type(Total_volume)"
      ]
    },
    {
      "cell_type": "code",
      "execution_count": null,
      "id": "0f367086",
      "metadata": {
        "id": "0f367086",
        "outputId": "7b35fa23-ac18-4943-df11-0d1466f57539"
      },
      "outputs": [
        {
          "data": {
            "text/plain": [
              "bool"
            ]
          },
          "execution_count": 4,
          "metadata": {},
          "output_type": "execute_result"
        }
      ],
      "source": [
        "water = False\n",
        "type(water)"
      ]
    },
    {
      "cell_type": "code",
      "execution_count": null,
      "id": "8ea4e366",
      "metadata": {
        "id": "8ea4e366",
        "outputId": "a6089cb7-e7d7-4613-ba95-44fc183c15d0"
      },
      "outputs": [
        {
          "data": {
            "text/plain": [
              "1"
            ]
          },
          "execution_count": 5,
          "metadata": {},
          "output_type": "execute_result"
        }
      ],
      "source": [
        "oil = True\n",
        "int(oil)"
      ]
    },
    {
      "cell_type": "code",
      "execution_count": null,
      "id": "0c96ae96",
      "metadata": {
        "id": "0c96ae96",
        "outputId": "d66bb230-ab8f-444f-f05d-4747febb57a6"
      },
      "outputs": [
        {
          "data": {
            "text/plain": [
              "0"
            ]
          },
          "execution_count": 6,
          "metadata": {},
          "output_type": "execute_result"
        }
      ],
      "source": [
        "int(water)"
      ]
    },
    {
      "cell_type": "markdown",
      "id": "2605508f",
      "metadata": {
        "id": "2605508f"
      },
      "source": [
        "False = 0 ; True = 1"
      ]
    },
    {
      "cell_type": "code",
      "execution_count": null,
      "id": "b163c6c1",
      "metadata": {
        "id": "b163c6c1",
        "outputId": "68e940f8-2810-4411-b483-504c84c1ed57"
      },
      "outputs": [
        {
          "data": {
            "text/plain": [
              "str"
            ]
          },
          "execution_count": 7,
          "metadata": {},
          "output_type": "execute_result"
        }
      ],
      "source": [
        "rock = 'Sandstone'\n",
        "type(rock)"
      ]
    },
    {
      "cell_type": "code",
      "execution_count": null,
      "id": "bfdb91b9",
      "metadata": {
        "id": "bfdb91b9",
        "outputId": "8d3aadb1-45bd-400f-cfa2-5827d3cf340f"
      },
      "outputs": [
        {
          "name": "stdout",
          "output_type": "stream",
          "text": [
            "Sandstone\n"
          ]
        }
      ],
      "source": [
        "print(rock)"
      ]
    },
    {
      "cell_type": "code",
      "execution_count": null,
      "id": "16c75518",
      "metadata": {
        "id": "16c75518",
        "outputId": "5d506098-b353-4835-d889-6d3dc1e67e36"
      },
      "outputs": [
        {
          "name": "stdout",
          "output_type": "stream",
          "text": [
            "First Letter: S and Last Letter: e\n"
          ]
        }
      ],
      "source": [
        "# Index:\n",
        "\n",
        "print('First Letter:',rock[0],'and Last Letter:', rock[8])"
      ]
    },
    {
      "cell_type": "code",
      "execution_count": null,
      "id": "2fbab1bc",
      "metadata": {
        "id": "2fbab1bc",
        "outputId": "143eaab6-9833-4a81-8070-769b47419cb4"
      },
      "outputs": [
        {
          "data": {
            "text/plain": [
              "'e'"
            ]
          },
          "execution_count": 10,
          "metadata": {},
          "output_type": "execute_result"
        }
      ],
      "source": [
        "rock[-1]"
      ]
    },
    {
      "cell_type": "code",
      "execution_count": null,
      "id": "761379b6",
      "metadata": {
        "id": "761379b6",
        "outputId": "f9903ca6-5543-4e9c-ef10-3393991732e8"
      },
      "outputs": [
        {
          "data": {
            "text/plain": [
              "9"
            ]
          },
          "execution_count": 11,
          "metadata": {},
          "output_type": "execute_result"
        }
      ],
      "source": [
        "len(rock)"
      ]
    },
    {
      "cell_type": "code",
      "execution_count": null,
      "id": "f41edaab",
      "metadata": {
        "id": "f41edaab",
        "outputId": "36d8fe6b-3d52-4238-a198-f4f3cf92fb38"
      },
      "outputs": [
        {
          "data": {
            "text/plain": [
              "'stone'"
            ]
          },
          "execution_count": 12,
          "metadata": {},
          "output_type": "execute_result"
        }
      ],
      "source": [
        "rock[4:9]"
      ]
    },
    {
      "cell_type": "code",
      "execution_count": null,
      "id": "ad7a7c21",
      "metadata": {
        "id": "ad7a7c21",
        "outputId": "ea3f9155-5a90-4ba7-f9fb-1017df51330d"
      },
      "outputs": [
        {
          "data": {
            "text/plain": [
              "'Sand'"
            ]
          },
          "execution_count": 13,
          "metadata": {},
          "output_type": "execute_result"
        }
      ],
      "source": [
        "rock[:4]"
      ]
    },
    {
      "cell_type": "code",
      "execution_count": null,
      "id": "18a35538",
      "metadata": {
        "id": "18a35538",
        "outputId": "81187fff-7486-4b9d-caf6-57b7dbc6e890"
      },
      "outputs": [
        {
          "data": {
            "text/plain": [
              "'Sandstone'"
            ]
          },
          "execution_count": 14,
          "metadata": {},
          "output_type": "execute_result"
        }
      ],
      "source": [
        "rock[:]"
      ]
    },
    {
      "cell_type": "code",
      "execution_count": null,
      "id": "ba5797f2",
      "metadata": {
        "id": "ba5797f2",
        "outputId": "db880e00-937a-4c70-8626-cb2109cb631e"
      },
      "outputs": [
        {
          "name": "stdout",
          "output_type": "stream",
          "text": [
            "None\n"
          ]
        }
      ],
      "source": [
        "# NULL VALUE\n",
        "a = None\n",
        "print(a)"
      ]
    },
    {
      "cell_type": "markdown",
      "id": "e852a2f1",
      "metadata": {
        "id": "e852a2f1"
      },
      "source": [
        "> # OPERATORS\n",
        "Arithmetic - Comparison - Logic"
      ]
    },
    {
      "cell_type": "markdown",
      "source": [
        "![image.png](data:image/png;base64,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)"
      ],
      "metadata": {
        "id": "Orrf52kIXjdx"
      },
      "id": "Orrf52kIXjdx"
    },
    {
      "cell_type": "code",
      "execution_count": null,
      "id": "a878417f",
      "metadata": {
        "id": "a878417f",
        "outputId": "1618233b-fc46-48ab-fac6-35b5a231818d"
      },
      "outputs": [
        {
          "name": "stdout",
          "output_type": "stream",
          "text": [
            "Porosity Value: 0.3\n"
          ]
        }
      ],
      "source": [
        "phi = V_voids / Total_volume\n",
        "print('Porosity Value:', phi)"
      ]
    },
    {
      "cell_type": "code",
      "execution_count": null,
      "id": "3d6cb373",
      "metadata": {
        "id": "3d6cb373",
        "outputId": "1768b6f3-9cdd-46bd-f06a-09753a3d2b7e"
      },
      "outputs": [
        {
          "name": "stdout",
          "output_type": "stream",
          "text": [
            "Porosity Value: 30.0 %\n"
          ]
        }
      ],
      "source": [
        "print('Porosity Value:', phi * 100, '%')"
      ]
    },
    {
      "cell_type": "markdown",
      "id": "be24900e",
      "metadata": {
        "id": "be24900e"
      },
      "source": [
        "![image.png](data:image/png;base64,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)"
      ]
    },
    {
      "cell_type": "code",
      "execution_count": null,
      "id": "b3baf58b",
      "metadata": {
        "id": "b3baf58b",
        "outputId": "53cb4942-16c2-4c11-a1a7-7a81db31972c"
      },
      "outputs": [
        {
          "data": {
            "text/plain": [
              "False"
            ]
          },
          "execution_count": 17,
          "metadata": {},
          "output_type": "execute_result"
        }
      ],
      "source": [
        "oil == water"
      ]
    },
    {
      "cell_type": "code",
      "execution_count": null,
      "id": "32cc490f",
      "metadata": {
        "id": "32cc490f",
        "outputId": "d826620d-93f3-4ebb-d93c-ad58448d73fd"
      },
      "outputs": [
        {
          "data": {
            "text/plain": [
              "True"
            ]
          },
          "execution_count": 18,
          "metadata": {},
          "output_type": "execute_result"
        }
      ],
      "source": [
        "oil > water"
      ]
    },
    {
      "cell_type": "code",
      "execution_count": null,
      "id": "12de4cea",
      "metadata": {
        "id": "12de4cea",
        "outputId": "ce70cbe9-bbd0-4e5e-f1ba-0f2f3f1cfe32"
      },
      "outputs": [
        {
          "data": {
            "text/plain": [
              "True"
            ]
          },
          "execution_count": 19,
          "metadata": {},
          "output_type": "execute_result"
        }
      ],
      "source": [
        "Formation_press = 3500\n",
        "Hydraulic_press = 3800\n",
        "# Pressure [psi] - Overbalance\n",
        "\n",
        "Formation_press != Hydraulic_press"
      ]
    },
    {
      "cell_type": "markdown",
      "id": "3e11f3b4",
      "metadata": {
        "id": "3e11f3b4"
      },
      "source": [
        "![image.png](data:image/png;base64,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)"
      ]
    },
    {
      "cell_type": "code",
      "execution_count": null,
      "id": "551ccc30",
      "metadata": {
        "id": "551ccc30",
        "outputId": "ca1d1054-f013-44e2-dc16-360d1b880eb6"
      },
      "outputs": [
        {
          "data": {
            "text/plain": [
              "True"
            ]
          },
          "execution_count": 20,
          "metadata": {},
          "output_type": "execute_result"
        }
      ],
      "source": [
        "Fracture_press = 4000\n",
        "\n",
        "Fracture_press > Hydraulic_press and Formation_press < Hydraulic_press"
      ]
    },
    {
      "cell_type": "markdown",
      "source": [
        "![image.png](data:image/png;base64,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)"
      ],
      "metadata": {
        "id": "HS8hdUHaY97J"
      },
      "id": "HS8hdUHaY97J"
    },
    {
      "cell_type": "code",
      "execution_count": null,
      "id": "fffaf89d",
      "metadata": {
        "id": "fffaf89d",
        "outputId": "81f6a7c9-d465-4694-9db0-b22d60d45a95"
      },
      "outputs": [
        {
          "data": {
            "text/plain": [
              "1"
            ]
          },
          "execution_count": 21,
          "metadata": {},
          "output_type": "execute_result"
        }
      ],
      "source": [
        "int(Fracture_press > Hydraulic_press and Formation_press < Hydraulic_press or Formation_press == Fracture_press)"
      ]
    },
    {
      "cell_type": "code",
      "execution_count": null,
      "id": "fe7f64dd",
      "metadata": {
        "id": "fe7f64dd",
        "outputId": "74c72162-bc90-416a-ac91-be86f3f8ce63"
      },
      "outputs": [
        {
          "data": {
            "text/plain": [
              "False"
            ]
          },
          "execution_count": 22,
          "metadata": {},
          "output_type": "execute_result"
        }
      ],
      "source": [
        "not(1)"
      ]
    },
    {
      "cell_type": "markdown",
      "id": "9898517d",
      "metadata": {
        "id": "9898517d"
      },
      "source": [
        "> # DATA STRUCTURE\n",
        "## List [ ] - Tuples ( ) - Dictionary { } \n"
      ]
    },
    {
      "cell_type": "markdown",
      "id": "859003f3",
      "metadata": {
        "id": "859003f3"
      },
      "source": [
        "## List"
      ]
    },
    {
      "cell_type": "markdown",
      "source": [
        ">  Lists are the simplest containers\n",
        "\n",
        ">  **Lists are mutable**\n",
        "\n",
        ">  In Python we use square brackets ```[]``` to define lists.\n",
        "\n",
        ">  Separated by a comma\n",
        "\n",
        ">  Can include different data types like int, float, string, and so forth\n",
        "\n"
      ],
      "metadata": {
        "id": "MXuwWL_QeRgb"
      },
      "id": "MXuwWL_QeRgb"
    },
    {
      "cell_type": "markdown",
      "source": [
        "---"
      ],
      "metadata": {
        "id": "5xh224MAghh9"
      },
      "id": "5xh224MAghh9"
    },
    {
      "cell_type": "code",
      "execution_count": 41,
      "id": "52c9855a",
      "metadata": {
        "id": "52c9855a"
      },
      "outputs": [],
      "source": [
        "# Pressure [psi]\n",
        "psep = 1000\n",
        "pwh = 2000\n",
        "pwf = 3000\n",
        "pwfs = 4000\n",
        "pws = 5000\n",
        "pe = 6000"
      ]
    },
    {
      "cell_type": "code",
      "execution_count": 44,
      "id": "3bd8faee",
      "metadata": {
        "id": "3bd8faee",
        "outputId": "2ff63ade-aa83-4697-8b7c-4f5f9de03a5f",
        "colab": {
          "base_uri": "https://localhost:8080/"
        }
      },
      "outputs": [
        {
          "output_type": "execute_result",
          "data": {
            "text/plain": [
              "[1000, 2000, 3000, 4000, 5000, 6000]"
            ]
          },
          "metadata": {},
          "execution_count": 44
        }
      ],
      "source": [
        "pressure_list = [psep, pwh, pwf, pwfs, pws, pe]\n",
        "pressure_list"
      ]
    },
    {
      "cell_type": "markdown",
      "source": [
        "Mixing data types\n",
        "\n",
        ">Lists can contain multple data types"
      ],
      "metadata": {
        "id": "h9ajK6jswZYd"
      },
      "id": "h9ajK6jswZYd"
    },
    {
      "cell_type": "code",
      "source": [
        "mixed = ['Geology', 5000, 3.1416, True ]\n",
        "mixed"
      ],
      "metadata": {
        "colab": {
          "base_uri": "https://localhost:8080/"
        },
        "id": "F7UOEg9jumFh",
        "outputId": "f7bc486b-29a5-4b7e-8a48-142de9270192"
      },
      "id": "F7UOEg9jumFh",
      "execution_count": 45,
      "outputs": [
        {
          "output_type": "execute_result",
          "data": {
            "text/plain": [
              "['Geology', 5000, 3.1416, True]"
            ]
          },
          "metadata": {},
          "execution_count": 45
        }
      ]
    },
    {
      "cell_type": "code",
      "execution_count": 46,
      "id": "cea4e5a7",
      "metadata": {
        "id": "cea4e5a7",
        "outputId": "c9174c9d-0246-4770-936e-80ddec382925",
        "colab": {
          "base_uri": "https://localhost:8080/"
        }
      },
      "outputs": [
        {
          "output_type": "execute_result",
          "data": {
            "text/plain": [
              "list"
            ]
          },
          "metadata": {},
          "execution_count": 46
        }
      ],
      "source": [
        "type(mixed)"
      ]
    },
    {
      "cell_type": "markdown",
      "source": [
        "#### Indexing\n",
        ">Items in lists can be accessed using indices"
      ],
      "metadata": {
        "id": "3QuNKVvTykyo"
      },
      "id": "3QuNKVvTykyo"
    },
    {
      "cell_type": "markdown",
      "source": [
        "\n",
        "\n",
        "<img src=\"https://raw.githubusercontent.com/kevinvasquezb/Python_for_OG_CIP/main/Images/index-list.png\" width=\"800\" align=\"left\">"
      ],
      "metadata": {
        "id": "7I5GF8Hm2JoW"
      },
      "id": "7I5GF8Hm2JoW"
    },
    {
      "cell_type": "code",
      "execution_count": 47,
      "id": "4055d4bb",
      "metadata": {
        "id": "4055d4bb"
      },
      "outputs": [],
      "source": [
        "industry = ['Reservoir', 'Drilling', 'Production', 'Geology']"
      ]
    },
    {
      "cell_type": "markdown",
      "source": [
        "##### Access first item"
      ],
      "metadata": {
        "id": "byhd__koyyqu"
      },
      "id": "byhd__koyyqu"
    },
    {
      "cell_type": "code",
      "source": [
        "industry[0]"
      ],
      "metadata": {
        "colab": {
          "base_uri": "https://localhost:8080/",
          "height": 36
        },
        "id": "333ISbhT6yIL",
        "outputId": "bb8b0132-b4b2-404c-cfd0-12876e90e839"
      },
      "id": "333ISbhT6yIL",
      "execution_count": 48,
      "outputs": [
        {
          "output_type": "execute_result",
          "data": {
            "text/plain": [
              "'Reservoir'"
            ],
            "application/vnd.google.colaboratory.intrinsic+json": {
              "type": "string"
            }
          },
          "metadata": {},
          "execution_count": 48
        }
      ]
    },
    {
      "cell_type": "markdown",
      "source": [
        "##### Access last item"
      ],
      "metadata": {
        "id": "JJeXUOVH5pkl"
      },
      "id": "JJeXUOVH5pkl"
    },
    {
      "cell_type": "code",
      "source": [
        "industry[3]"
      ],
      "metadata": {
        "colab": {
          "base_uri": "https://localhost:8080/",
          "height": 36
        },
        "id": "NBGMoWRGy8zR",
        "outputId": "be633fa6-83ec-4241-8d1d-e1b93b989f34"
      },
      "id": "NBGMoWRGy8zR",
      "execution_count": 49,
      "outputs": [
        {
          "output_type": "execute_result",
          "data": {
            "text/plain": [
              "'Geology'"
            ],
            "application/vnd.google.colaboratory.intrinsic+json": {
              "type": "string"
            }
          },
          "metadata": {},
          "execution_count": 49
        }
      ]
    },
    {
      "cell_type": "code",
      "source": [
        "industry[-1]"
      ],
      "metadata": {
        "colab": {
          "base_uri": "https://localhost:8080/",
          "height": 36
        },
        "id": "bkAnGAXi8eNb",
        "outputId": "cdc18ed3-1f79-447c-eb75-069d3881a10e"
      },
      "id": "bkAnGAXi8eNb",
      "execution_count": 50,
      "outputs": [
        {
          "output_type": "execute_result",
          "data": {
            "text/plain": [
              "'Geology'"
            ],
            "application/vnd.google.colaboratory.intrinsic+json": {
              "type": "string"
            }
          },
          "metadata": {},
          "execution_count": 50
        }
      ]
    },
    {
      "cell_type": "markdown",
      "source": [
        "#### Slicing"
      ],
      "metadata": {
        "id": "7UT1bwxnyq7U"
      },
      "id": "7UT1bwxnyq7U"
    },
    {
      "cell_type": "markdown",
      "source": [
        "> Slicing is indexing syntax that extracts a portion from a list\n",
        "\n",
        "\n"
      ],
      "metadata": {
        "id": "QtkvP2zg-AML"
      },
      "id": "QtkvP2zg-AML"
    },
    {
      "cell_type": "code",
      "source": [
        "a = ['Reservoir', 'Drilling', 'Production', 'Geology', 'Petrophysics', 'Petrochemistry']\n",
        "print(a)"
      ],
      "metadata": {
        "colab": {
          "base_uri": "https://localhost:8080/"
        },
        "id": "d8RsIrXKyzGU",
        "outputId": "c11ef4bb-5512-46e9-eb61-d96cb88342ab"
      },
      "id": "d8RsIrXKyzGU",
      "execution_count": 51,
      "outputs": [
        {
          "output_type": "stream",
          "name": "stdout",
          "text": [
            "['Reservoir', 'Drilling', 'Production', 'Geology', 'Petrophysics', 'Petrochemistry']\n"
          ]
        }
      ]
    },
    {
      "cell_type": "markdown",
      "source": [
        "> a[ m : n ] returns the portion of a \n",
        "\n",
        "- Starting with position ```m```\n",
        "- And up to but not including position ```n``` "
      ],
      "metadata": {
        "id": "oTc5YQ30_c3r"
      },
      "id": "oTc5YQ30_c3r"
    },
    {
      "cell_type": "markdown",
      "source": [
        "\n",
        "\n",
        "<img src=\"https://raw.githubusercontent.com/kevinvasquezb/Python_for_OG_CIP/main/Images/list_slicing1.png\" width=\"900\" align=\"left\">"
      ],
      "metadata": {
        "id": "8kYEQDWE8JQ3"
      },
      "id": "8kYEQDWE8JQ3"
    },
    {
      "cell_type": "code",
      "source": [
        "a[2:5]"
      ],
      "metadata": {
        "colab": {
          "base_uri": "https://localhost:8080/"
        },
        "id": "ZBA4A1Xn4__w",
        "outputId": "2ef99a7b-6b17-483c-a222-3e361e613d6a"
      },
      "id": "ZBA4A1Xn4__w",
      "execution_count": 52,
      "outputs": [
        {
          "output_type": "execute_result",
          "data": {
            "text/plain": [
              "['Production', 'Geology', 'Petrophysics']"
            ]
          },
          "metadata": {},
          "execution_count": 52
        }
      ]
    },
    {
      "cell_type": "markdown",
      "source": [
        "> - Omitting the first index a[ : n ] starts the slice at the beginning of\n",
        "the list\n",
        "\n",
        "> - Omitting the last index a[ m : ] extends the slice from the first index\n",
        "```m``` to the end of the list\n",
        "\n",
        "> - Omitting both indexes a [ : ] returns a copy of the entire list"
      ],
      "metadata": {
        "id": "4KwF04gUBtI9"
      },
      "id": "4KwF04gUBtI9"
    },
    {
      "cell_type": "code",
      "source": [
        "a[:3]"
      ],
      "metadata": {
        "colab": {
          "base_uri": "https://localhost:8080/"
        },
        "id": "eiConIWS5ACC",
        "outputId": "1fd0ca3c-52bb-4aa9-edb9-f41590da8aca"
      },
      "id": "eiConIWS5ACC",
      "execution_count": 53,
      "outputs": [
        {
          "output_type": "execute_result",
          "data": {
            "text/plain": [
              "['Reservoir', 'Drilling', 'Production']"
            ]
          },
          "metadata": {},
          "execution_count": 53
        }
      ]
    },
    {
      "cell_type": "code",
      "source": [
        "a[2:]"
      ],
      "metadata": {
        "colab": {
          "base_uri": "https://localhost:8080/"
        },
        "id": "TxtOZCUYDDJ9",
        "outputId": "48ce49e8-8bd4-4707-c582-72076618d1f0"
      },
      "id": "TxtOZCUYDDJ9",
      "execution_count": 54,
      "outputs": [
        {
          "output_type": "execute_result",
          "data": {
            "text/plain": [
              "['Production', 'Geology', 'Petrophysics', 'Petrochemistry']"
            ]
          },
          "metadata": {},
          "execution_count": 54
        }
      ]
    },
    {
      "cell_type": "code",
      "source": [
        "a[:]"
      ],
      "metadata": {
        "colab": {
          "base_uri": "https://localhost:8080/"
        },
        "id": "Osfp3sW3DK8D",
        "outputId": "ad208d01-5319-41f3-fd56-6d4159206af3"
      },
      "id": "Osfp3sW3DK8D",
      "execution_count": 55,
      "outputs": [
        {
          "output_type": "execute_result",
          "data": {
            "text/plain": [
              "['Reservoir',\n",
              " 'Drilling',\n",
              " 'Production',\n",
              " 'Geology',\n",
              " 'Petrophysics',\n",
              " 'Petrochemistry']"
            ]
          },
          "metadata": {},
          "execution_count": 55
        }
      ]
    },
    {
      "cell_type": "markdown",
      "source": [
        "#### Adding to a list"
      ],
      "metadata": {
        "id": "cwcJ0UCR8vbK"
      },
      "id": "cwcJ0UCR8vbK"
    },
    {
      "cell_type": "markdown",
      "source": [
        "##### Append to the end of a list"
      ],
      "metadata": {
        "id": "RgUGb4sL9E1H"
      },
      "id": "RgUGb4sL9E1H"
    },
    {
      "cell_type": "code",
      "execution_count": 56,
      "id": "a85a05ac",
      "metadata": {
        "id": "a85a05ac",
        "outputId": "99487690-67e1-4c6d-b0fb-1e3c119de8a9",
        "colab": {
          "base_uri": "https://localhost:8080/"
        }
      },
      "outputs": [
        {
          "output_type": "execute_result",
          "data": {
            "text/plain": [
              "['Reservoir', 'Drilling', 'Production', 'Geology', 911]"
            ]
          },
          "metadata": {},
          "execution_count": 56
        }
      ],
      "source": [
        "industry.append(911)\n",
        "industry"
      ]
    },
    {
      "cell_type": "markdown",
      "source": [
        "#### Change item at some position"
      ],
      "metadata": {
        "id": "eLaIqHEq-n7W"
      },
      "id": "eLaIqHEq-n7W"
    },
    {
      "cell_type": "code",
      "execution_count": 57,
      "id": "c1c3c716",
      "metadata": {
        "scrolled": false,
        "id": "c1c3c716",
        "outputId": "a349e6e4-acc3-434f-da39-bf7bac54c7e5",
        "colab": {
          "base_uri": "https://localhost:8080/"
        }
      },
      "outputs": [
        {
          "output_type": "stream",
          "name": "stdout",
          "text": [
            "911\n",
            "Data_Engineer\n"
          ]
        }
      ],
      "source": [
        "print(industry[4])\n",
        "industry[4] = 'Data_Engineer'\n",
        "print(industry[4])"
      ]
    },
    {
      "cell_type": "code",
      "source": [
        "industry"
      ],
      "metadata": {
        "colab": {
          "base_uri": "https://localhost:8080/"
        },
        "id": "bAkMxmqL-FNC",
        "outputId": "88ff05bb-9c4e-4536-fb47-7d35d213033c"
      },
      "id": "bAkMxmqL-FNC",
      "execution_count": 58,
      "outputs": [
        {
          "output_type": "execute_result",
          "data": {
            "text/plain": [
              "['Reservoir', 'Drilling', 'Production', 'Geology', 'Data_Engineer']"
            ]
          },
          "metadata": {},
          "execution_count": 58
        }
      ]
    },
    {
      "cell_type": "markdown",
      "source": [
        "#### Removing items from a list"
      ],
      "metadata": {
        "id": "aayTuXZ0_dx9"
      },
      "id": "aayTuXZ0_dx9"
    },
    {
      "cell_type": "markdown",
      "source": [
        "##### Pop from the end"
      ],
      "metadata": {
        "id": "zWfklh63_gMS"
      },
      "id": "zWfklh63_gMS"
    },
    {
      "cell_type": "code",
      "execution_count": 60,
      "id": "1d609510",
      "metadata": {
        "id": "1d609510",
        "outputId": "7752cd96-8450-4f90-cd36-f4ac2c2b4ed9",
        "colab": {
          "base_uri": "https://localhost:8080/"
        }
      },
      "outputs": [
        {
          "output_type": "execute_result",
          "data": {
            "text/plain": [
              "['Reservoir', 'Drilling', 'Production', 'Geology']"
            ]
          },
          "metadata": {},
          "execution_count": 60
        }
      ],
      "source": [
        "industry.pop()\n",
        "industry"
      ]
    },
    {
      "cell_type": "markdown",
      "source": [
        "##### Pop by index"
      ],
      "metadata": {
        "id": "9J_w7_Dg_rn1"
      },
      "id": "9J_w7_Dg_rn1"
    },
    {
      "cell_type": "code",
      "source": [
        "industry.pop(2)"
      ],
      "metadata": {
        "colab": {
          "base_uri": "https://localhost:8080/",
          "height": 36
        },
        "id": "-Idgflit_rTN",
        "outputId": "a1e50722-d59a-4a55-dc4d-77f65766cb3a"
      },
      "id": "-Idgflit_rTN",
      "execution_count": 61,
      "outputs": [
        {
          "output_type": "execute_result",
          "data": {
            "text/plain": [
              "'Production'"
            ],
            "application/vnd.google.colaboratory.intrinsic+json": {
              "type": "string"
            }
          },
          "metadata": {},
          "execution_count": 61
        }
      ]
    },
    {
      "cell_type": "code",
      "source": [
        "industry"
      ],
      "metadata": {
        "colab": {
          "base_uri": "https://localhost:8080/"
        },
        "id": "UdSUnbIF2FXz",
        "outputId": "28937a12-3938-4eb9-997f-84e46495d9cd"
      },
      "id": "UdSUnbIF2FXz",
      "execution_count": 62,
      "outputs": [
        {
          "output_type": "execute_result",
          "data": {
            "text/plain": [
              "['Reservoir', 'Drilling', 'Geology']"
            ]
          },
          "metadata": {},
          "execution_count": 62
        }
      ]
    },
    {
      "cell_type": "markdown",
      "id": "08547f16",
      "metadata": {
        "id": "08547f16"
      },
      "source": [
        "## Tuple"
      ]
    },
    {
      "cell_type": "markdown",
      "source": [
        ">  In Python we uses parentheses ```()``` to define Tuples\n",
        "\n",
        ">  **Tuples are immutable**\n",
        "\n",
        ">  Separated by a comma\n",
        "\n",
        ">  Can include different data types like int, float, string, and so forth\n",
        "\n"
      ],
      "metadata": {
        "id": "dD6KvO6WCQDx"
      },
      "id": "dD6KvO6WCQDx"
    },
    {
      "cell_type": "code",
      "execution_count": 63,
      "id": "e7c0ad89",
      "metadata": {
        "id": "e7c0ad89",
        "outputId": "d184142a-3ea3-43cd-ef98-997965a1d2be",
        "colab": {
          "base_uri": "https://localhost:8080/"
        }
      },
      "outputs": [
        {
          "output_type": "execute_result",
          "data": {
            "text/plain": [
              "tuple"
            ]
          },
          "metadata": {},
          "execution_count": 63
        }
      ],
      "source": [
        "t_casing = ('Conductora', 18.625, 'Intermedia', 16, 'Intermedia_2', 11.75 ) \n",
        "type(t_casing)"
      ]
    },
    {
      "cell_type": "code",
      "execution_count": 64,
      "id": "36060356",
      "metadata": {
        "id": "36060356",
        "outputId": "e101a746-e77c-442d-f5f7-e08eb083746d",
        "colab": {
          "base_uri": "https://localhost:8080/"
        }
      },
      "outputs": [
        {
          "output_type": "execute_result",
          "data": {
            "text/plain": [
              "('Conductora', 18.625, 'Intermedia', 16, 'Intermedia_2', 11.75)"
            ]
          },
          "metadata": {},
          "execution_count": 64
        }
      ],
      "source": [
        "t_casing"
      ]
    },
    {
      "cell_type": "markdown",
      "source": [
        ">  **Tuples are immutable**"
      ],
      "metadata": {
        "id": "pk3H6nSOXava"
      },
      "id": "pk3H6nSOXava"
    },
    {
      "cell_type": "code",
      "execution_count": 67,
      "id": "496915b2",
      "metadata": {
        "id": "496915b2"
      },
      "outputs": [],
      "source": [
        " #t_casing[4] = 'Liner'"
      ]
    },
    {
      "cell_type": "markdown",
      "source": [
        "#### Tuple Length"
      ],
      "metadata": {
        "id": "0mBx3lhjU8TL"
      },
      "id": "0mBx3lhjU8TL"
    },
    {
      "cell_type": "markdown",
      "source": [
        "> To determine how many items a tuple has, use the len() function:"
      ],
      "metadata": {
        "id": "YLj9Ab1VVDCX"
      },
      "id": "YLj9Ab1VVDCX"
    },
    {
      "cell_type": "code",
      "source": [
        "len(t_casing) "
      ],
      "metadata": {
        "colab": {
          "base_uri": "https://localhost:8080/"
        },
        "id": "5nt2Gqe8VJbb",
        "outputId": "44c67517-a5fe-4706-89e7-77eaccc82c3a"
      },
      "id": "5nt2Gqe8VJbb",
      "execution_count": 68,
      "outputs": [
        {
          "output_type": "execute_result",
          "data": {
            "text/plain": [
              "6"
            ]
          },
          "metadata": {},
          "execution_count": 68
        }
      ]
    },
    {
      "cell_type": "markdown",
      "id": "217129c0",
      "metadata": {
        "id": "217129c0"
      },
      "source": [
        "## Dictionary"
      ]
    },
    {
      "cell_type": "markdown",
      "source": [
        "> A dictionary consists of keys and values\n",
        "\n",
        "> Each element is represented by a key and its corresponding value\n",
        "\n",
        "> Keys can only be strings, numbers, or tuples\n",
        "\n",
        "> Dictionaries are constructed with curly braces { }\n",
        "\n",
        "```Typically used to hold data that are related, such as the information contained in an ID or a user profile```"
      ],
      "metadata": {
        "id": "NO1_k8tRztLR"
      },
      "id": "NO1_k8tRztLR"
    },
    {
      "cell_type": "markdown",
      "source": [
        "<img src=\"https://raw.githubusercontent.com/kevinvasquezb/Python_for_OG_CIP/main/Images/DictsList.png\" width=\"400\" align=\"left\">"
      ],
      "metadata": {
        "id": "OWZYExfd4m6d"
      },
      "id": "OWZYExfd4m6d"
    },
    {
      "cell_type": "code",
      "source": [
        "user_1 = {'name': 'John',\n",
        "        'last name': 'Lee',\n",
        "        'age': 86,\n",
        "        'pets': ['dog', 'cat', 'hamster']\n",
        "        }"
      ],
      "metadata": {
        "id": "GEHQGyK87ytI"
      },
      "id": "GEHQGyK87ytI",
      "execution_count": 69,
      "outputs": []
    },
    {
      "cell_type": "markdown",
      "source": [
        "##### Accessing Data Items with Keys\n",
        "> We can call the values of a dictionary by referencing the related keys."
      ],
      "metadata": {
        "id": "v2TRZfGG-6-3"
      },
      "id": "v2TRZfGG-6-3"
    },
    {
      "cell_type": "code",
      "source": [
        "user_1['name']"
      ],
      "metadata": {
        "colab": {
          "base_uri": "https://localhost:8080/",
          "height": 36
        },
        "id": "chj4o7Cw7zA8",
        "outputId": "3a64af93-bfd4-4c28-d07a-3e07528a0632"
      },
      "id": "chj4o7Cw7zA8",
      "execution_count": 70,
      "outputs": [
        {
          "output_type": "execute_result",
          "data": {
            "text/plain": [
              "'John'"
            ],
            "application/vnd.google.colaboratory.intrinsic+json": {
              "type": "string"
            }
          },
          "metadata": {},
          "execution_count": 70
        }
      ]
    },
    {
      "cell_type": "markdown",
      "source": [
        "##### Using Methods to Access Elements\n",
        "\n",
        "In addition to using keys to access values, we can also work with some built-in methods:\n",
        "\n",
        "- `dict.keys()` isolates keys\n",
        "- `dict.values()` isolates values\n",
        "- `dict.items()` returns items in a list format of (key, value) tuple pairs"
      ],
      "metadata": {
        "id": "o0hAW2U2AQrG"
      },
      "id": "o0hAW2U2AQrG"
    },
    {
      "cell_type": "code",
      "source": [
        "user_1.keys()"
      ],
      "metadata": {
        "colab": {
          "base_uri": "https://localhost:8080/"
        },
        "id": "_WCxHr0CAQJL",
        "outputId": "5590b9c4-66a1-45ec-9785-a6a156f9e7bd"
      },
      "id": "_WCxHr0CAQJL",
      "execution_count": 71,
      "outputs": [
        {
          "output_type": "execute_result",
          "data": {
            "text/plain": [
              "dict_keys(['name', 'last name', 'age', 'pets'])"
            ]
          },
          "metadata": {},
          "execution_count": 71
        }
      ]
    },
    {
      "cell_type": "code",
      "source": [
        "user_1.values()"
      ],
      "metadata": {
        "colab": {
          "base_uri": "https://localhost:8080/"
        },
        "id": "qkUpb8ne7zFy",
        "outputId": "21ee6242-6ee6-4c0a-c384-88691ac1fc07"
      },
      "id": "qkUpb8ne7zFy",
      "execution_count": 72,
      "outputs": [
        {
          "output_type": "execute_result",
          "data": {
            "text/plain": [
              "dict_values(['John', 'Lee', 86, ['dog', 'cat', 'hamster']])"
            ]
          },
          "metadata": {},
          "execution_count": 72
        }
      ]
    },
    {
      "cell_type": "code",
      "source": [
        "user_1.items()"
      ],
      "metadata": {
        "colab": {
          "base_uri": "https://localhost:8080/"
        },
        "id": "r-_fPBmz7zH6",
        "outputId": "9acb50c3-a113-4c2b-ff0f-4d0fd6f86567"
      },
      "id": "r-_fPBmz7zH6",
      "execution_count": 74,
      "outputs": [
        {
          "output_type": "execute_result",
          "data": {
            "text/plain": [
              "dict_items([('name', 'John'), ('last name', 'Lee'), ('age', 86), ('pets', ['dog', 'cat', 'hamster'])])"
            ]
          },
          "metadata": {},
          "execution_count": 74
        }
      ]
    },
    {
      "cell_type": "markdown",
      "source": [
        "##### Adding and Changing Dictionary Elements"
      ],
      "metadata": {
        "id": "KmNIsDWQDNqm"
      },
      "id": "KmNIsDWQDNqm"
    },
    {
      "cell_type": "code",
      "source": [
        "user_1 = {'name': 'John',\n",
        "        'last name': 'Lee',\n",
        "        'age': 86,\n",
        "        'pets': ['dog', 'cat', 'hamster']\n",
        "        }\n",
        "\n",
        "user_1['email'] =  'john-lee@abc.net'\n",
        "\n",
        "user_1"
      ],
      "metadata": {
        "colab": {
          "base_uri": "https://localhost:8080/"
        },
        "id": "9KzGfwjv7zNc",
        "outputId": "27483946-9ade-4bfd-9ede-1e6e410b0828"
      },
      "id": "9KzGfwjv7zNc",
      "execution_count": 75,
      "outputs": [
        {
          "output_type": "execute_result",
          "data": {
            "text/plain": [
              "{'age': 86,\n",
              " 'email': 'john-lee@abc.net',\n",
              " 'last name': 'Lee',\n",
              " 'name': 'John',\n",
              " 'pets': ['dog', 'cat', 'hamster']}"
            ]
          },
          "metadata": {},
          "execution_count": 75
        }
      ]
    },
    {
      "cell_type": "markdown",
      "source": [
        "> Additionally, this syntax can be used for modifying the value assigned to a key. In this case, we’ll reference an existing key and pass a different value to it."
      ],
      "metadata": {
        "id": "NAvixDsFEpF-"
      },
      "id": "NAvixDsFEpF-"
    },
    {
      "cell_type": "code",
      "source": [
        "user_1['age'] = 80\n",
        "user_1"
      ],
      "metadata": {
        "colab": {
          "base_uri": "https://localhost:8080/"
        },
        "id": "qdauYN-FDelF",
        "outputId": "ae615a1b-d4da-4306-e66d-0ae9d4707512"
      },
      "id": "qdauYN-FDelF",
      "execution_count": 76,
      "outputs": [
        {
          "output_type": "execute_result",
          "data": {
            "text/plain": [
              "{'age': 80,\n",
              " 'email': 'john-lee@abc.net',\n",
              " 'last name': 'Lee',\n",
              " 'name': 'John',\n",
              " 'pets': ['dog', 'cat', 'hamster']}"
            ]
          },
          "metadata": {},
          "execution_count": 76
        }
      ]
    },
    {
      "cell_type": "markdown",
      "source": [
        "##### Remove item"
      ],
      "metadata": {
        "id": "wbo0M221GQ3i"
      },
      "id": "wbo0M221GQ3i"
    },
    {
      "cell_type": "code",
      "source": [
        "del(user_1['email'])\n",
        "user_1"
      ],
      "metadata": {
        "colab": {
          "base_uri": "https://localhost:8080/"
        },
        "id": "dRg0hVtNGU49",
        "outputId": "cef427db-875d-4fde-9992-c50440bdfd76"
      },
      "id": "dRg0hVtNGU49",
      "execution_count": 77,
      "outputs": [
        {
          "output_type": "execute_result",
          "data": {
            "text/plain": [
              "{'age': 80,\n",
              " 'last name': 'Lee',\n",
              " 'name': 'John',\n",
              " 'pets': ['dog', 'cat', 'hamster']}"
            ]
          },
          "metadata": {},
          "execution_count": 77
        }
      ]
    },
    {
      "cell_type": "markdown",
      "id": "eae82efd",
      "metadata": {
        "id": "eae82efd"
      },
      "source": [
        "> # CONTROL FLOW STRUCTURE\n",
        "## Conditionals - Loops\n"
      ]
    },
    {
      "cell_type": "markdown",
      "id": "a6367945",
      "metadata": {
        "id": "a6367945"
      },
      "source": [
        "### Conditional"
      ]
    },
    {
      "cell_type": "markdown",
      "id": "89fdf499",
      "metadata": {
        "id": "89fdf499"
      },
      "source": [
        "\n",
        "\n",
        "<img src=\"https://raw.githubusercontent.com/kevinvasquezb/Python_for_OG_CIP/main/Images/if-flowchart-606x1024.jpg\" width=\"20%\" align=\"left\">"
      ]
    },
    {
      "cell_type": "code",
      "source": [
        "# P = 0.052 x Mud_w(ppg) x TVD(ft)\n",
        "TVD = 10000 \n",
        "Mud1= 13.5\n",
        "\n",
        "P1 = 0.052 * Mud1 * TVD\n",
        "\n",
        "print('P1 =', P1, '[psi]')"
      ],
      "metadata": {
        "colab": {
          "base_uri": "https://localhost:8080/"
        },
        "id": "7zhVf0MQ5pLB",
        "outputId": "82bbcf27-ec16-487e-e9bb-8ea9d3aa4ec3"
      },
      "id": "7zhVf0MQ5pLB",
      "execution_count": 78,
      "outputs": [
        {
          "output_type": "stream",
          "name": "stdout",
          "text": [
            "P1 = 7020.0 [psi]\n"
          ]
        }
      ]
    },
    {
      "cell_type": "code",
      "source": [
        "# TRUE\n",
        "if P1>0:\n",
        "    print('P1 greater than 0') # body of if\n"
      ],
      "metadata": {
        "colab": {
          "base_uri": "https://localhost:8080/"
        },
        "id": "fGqcvwfN6U9G",
        "outputId": "1db595f5-640b-4f38-e730-b0b23f8febb0"
      },
      "id": "fGqcvwfN6U9G",
      "execution_count": 79,
      "outputs": [
        {
          "output_type": "stream",
          "name": "stdout",
          "text": [
            "P1 greater than 0\n"
          ]
        }
      ]
    },
    {
      "cell_type": "code",
      "source": [
        "# FALSE\n",
        "P1 = 0\n",
        "if P1>0:\n",
        "    print('P1 greater than 0') # body of if\n"
      ],
      "metadata": {
        "id": "fwO5Rx258eWv"
      },
      "id": "fwO5Rx258eWv",
      "execution_count": 80,
      "outputs": []
    },
    {
      "cell_type": "markdown",
      "source": [
        "<img src=\"https://raw.githubusercontent.com/kevinvasquezb/Python_for_OG_CIP/main/Images/if-else-flowchart-768x996.jpg\" width=\"27%\" align=\"left\">"
      ],
      "metadata": {
        "id": "qCvrL7xF4WkS"
      },
      "id": "qCvrL7xF4WkS"
    },
    {
      "cell_type": "code",
      "source": [
        "# P = 0.052 x Mud_w(ppg) x TVD(ft)\n",
        "TVD = 10000\n",
        "Mud1 = 13.5\n",
        "Mud2 = 14\n",
        "\n",
        "P1 = 0.052 * Mud1 * TVD\n",
        "P2 = 0.052 * Mud2 * TVD\n",
        "\n",
        "print('P1 =', P1, '[psi]')\n",
        "print('P2 =', P2, '[psi]')"
      ],
      "metadata": {
        "colab": {
          "base_uri": "https://localhost:8080/"
        },
        "id": "ZfnP2mg65ppH",
        "outputId": "c16d9b76-4e9d-46d1-f759-6dfb274d3d1c"
      },
      "id": "ZfnP2mg65ppH",
      "execution_count": 81,
      "outputs": [
        {
          "output_type": "stream",
          "name": "stdout",
          "text": [
            "P1 = 7020.0 [psi]\n",
            "P2 = 7280.0 [psi]\n"
          ]
        }
      ]
    },
    {
      "cell_type": "code",
      "source": [
        "if P1>P2:\n",
        "    print('P1 greater than P2') # body of if\n",
        "else:\n",
        "    print('P1 less than P2') # body of else\n"
      ],
      "metadata": {
        "colab": {
          "base_uri": "https://localhost:8080/"
        },
        "id": "uFz9fTSu9jol",
        "outputId": "fa1d8cd6-d0f6-45f4-a836-44a08af0ac28"
      },
      "id": "uFz9fTSu9jol",
      "execution_count": 82,
      "outputs": [
        {
          "output_type": "stream",
          "name": "stdout",
          "text": [
            "P1 less than P2\n"
          ]
        }
      ]
    },
    {
      "cell_type": "markdown",
      "source": [
        "<img src=\"https://raw.githubusercontent.com/kevinvasquezb/Python_for_OG_CIP/main/Images/If-elif-else-flowchart-768x806.jpg\" width=\"40%\" align=\"left\">\n",
        "\n",
        "\n"
      ],
      "metadata": {
        "id": "WQ4gaZLB4XLG"
      },
      "id": "WQ4gaZLB4XLG"
    },
    {
      "cell_type": "code",
      "source": [
        "P1 = 7020\n",
        "P2 = 7280\n",
        "#P2 = 7020\n",
        "\n",
        "if P1>P2:\n",
        "    print('P1 greater than P2') # body of if\n",
        "elif P1<P2:\n",
        "    print('P1 less than P2') # body of elif\n",
        "else:\n",
        "    print('P1 equal to P2') # body of else"
      ],
      "metadata": {
        "colab": {
          "base_uri": "https://localhost:8080/"
        },
        "id": "BJPRcznNAlJW",
        "outputId": "e2e0c01d-dfa2-4ba5-f47f-b6f9d4fa94c0"
      },
      "id": "BJPRcznNAlJW",
      "execution_count": 83,
      "outputs": [
        {
          "output_type": "stream",
          "name": "stdout",
          "text": [
            "P1 less than P2\n"
          ]
        }
      ]
    },
    {
      "cell_type": "markdown",
      "source": [
        "#### While Loop\n"
      ],
      "metadata": {
        "id": "C9XBLmmidG9X"
      },
      "id": "C9XBLmmidG9X"
    },
    {
      "cell_type": "markdown",
      "source": [
        "> The main function of a while loop in python is to repeatedly execute a block of code statements as long as the test condition is satisfied(True). \n",
        "\n",
        "> The next line in the program will only be executed once the test condition/expression becomes false."
      ],
      "metadata": {
        "id": "4kWEJ0FSenAN"
      },
      "id": "4kWEJ0FSenAN"
    },
    {
      "cell_type": "markdown",
      "source": [
        "<img src=\"https://raw.githubusercontent.com/kevinvasquezb/Python_for_OG_CIP/main/Images/while-loop.jpg\" width=\"35%\" align=\"left\">"
      ],
      "metadata": {
        "id": "9hJU094UdNqL"
      },
      "id": "9hJU094UdNqL"
    },
    {
      "cell_type": "code",
      "source": [
        "Pf = 12000 \n",
        "Ph = 7000\n",
        "\n",
        "while Ph<Pf:\n",
        "    print('Underbalanced ----> Ph = ', Ph, ' Pf = ', Pf)\n",
        "    Ph = Ph + 1000\n",
        "        \n",
        "\n",
        "print('Balanced      ----> Ph = ', Ph, ' Pf = ', Pf)"
      ],
      "metadata": {
        "colab": {
          "base_uri": "https://localhost:8080/"
        },
        "id": "NR3CnwGie-1B",
        "outputId": "91277941-fcbc-481a-f83d-776cbc9be4eb"
      },
      "id": "NR3CnwGie-1B",
      "execution_count": 84,
      "outputs": [
        {
          "output_type": "stream",
          "name": "stdout",
          "text": [
            "Underbalanced ----> Ph =  7000  Pf =  12000\n",
            "Underbalanced ----> Ph =  8000  Pf =  12000\n",
            "Underbalanced ----> Ph =  9000  Pf =  12000\n",
            "Underbalanced ----> Ph =  10000  Pf =  12000\n",
            "Underbalanced ----> Ph =  11000  Pf =  12000\n",
            "Balanced      ----> Ph =  12000  Pf =  12000\n"
          ]
        }
      ]
    },
    {
      "cell_type": "code",
      "source": [
        "count = 0\n",
        "\n",
        "while count < 6:\n",
        "   print ('The count is:', count)\n",
        "   count = count + 1\n",
        "\n",
        "\n",
        "print (\"Good bye!\")"
      ],
      "metadata": {
        "colab": {
          "base_uri": "https://localhost:8080/"
        },
        "id": "AYaWtRmHcxJy",
        "outputId": "0fc9adcf-61d8-4f55-b452-031c3edb9576"
      },
      "id": "AYaWtRmHcxJy",
      "execution_count": 85,
      "outputs": [
        {
          "output_type": "stream",
          "name": "stdout",
          "text": [
            "The count is: 0\n",
            "The count is: 1\n",
            "The count is: 2\n",
            "The count is: 3\n",
            "The count is: 4\n",
            "The count is: 5\n",
            "Good bye!\n"
          ]
        }
      ]
    },
    {
      "cell_type": "markdown",
      "source": [
        "#### For loop"
      ],
      "metadata": {
        "id": "ptcd09yq5iw0"
      },
      "id": "ptcd09yq5iw0"
    },
    {
      "cell_type": "markdown",
      "source": [
        "<img src=\"https://raw.githubusercontent.com/kevinvasquezb/Python_for_OG_CIP/main/Images/python_for_loop.jpg\" width=\"35%\" align=\"left\">"
      ],
      "metadata": {
        "id": "pH2YzKEIFyNM"
      },
      "id": "pH2YzKEIFyNM"
    },
    {
      "cell_type": "code",
      "source": [
        "# Pressure [psi]\n",
        "psep = 1000\n",
        "pwh = 2000\n",
        "pwf = 3000\n",
        "pwfs = 4000\n",
        "pws = 5000\n",
        "pe = 6000"
      ],
      "metadata": {
        "id": "ZAXwV6WhlBFL"
      },
      "id": "ZAXwV6WhlBFL",
      "execution_count": 87,
      "outputs": []
    },
    {
      "cell_type": "code",
      "source": [
        "pressure_list = [psep, pwh, pwf, pwfs, pws, pe]"
      ],
      "metadata": {
        "id": "iW152LqilEEO"
      },
      "id": "iW152LqilEEO",
      "execution_count": 92,
      "outputs": []
    },
    {
      "cell_type": "code",
      "source": [
        "print(len(pressure_list))\n",
        "pressure_list[0:6]"
      ],
      "metadata": {
        "colab": {
          "base_uri": "https://localhost:8080/"
        },
        "id": "lyTo5xOxthlY",
        "outputId": "c65b39f8-c882-4439-f25c-8b01c9a7d114"
      },
      "id": "lyTo5xOxthlY",
      "execution_count": 99,
      "outputs": [
        {
          "output_type": "stream",
          "name": "stdout",
          "text": [
            "6\n"
          ]
        },
        {
          "output_type": "execute_result",
          "data": {
            "text/plain": [
              "[1000, 2000, 3000, 4000, 5000, 6000]"
            ]
          },
          "metadata": {},
          "execution_count": 99
        }
      ]
    },
    {
      "cell_type": "code",
      "source": [
        "for i in pressure_list:\n",
        "    print(i)"
      ],
      "metadata": {
        "id": "J3ItvFl8Xa1o",
        "colab": {
          "base_uri": "https://localhost:8080/"
        },
        "outputId": "56ace363-6e2d-419d-c20b-59979b3c2160"
      },
      "id": "J3ItvFl8Xa1o",
      "execution_count": 91,
      "outputs": [
        {
          "output_type": "stream",
          "name": "stdout",
          "text": [
            "1000\n",
            "2000\n",
            "3000\n",
            "4000\n",
            "5000\n",
            "6000\n"
          ]
        }
      ]
    },
    {
      "cell_type": "code",
      "source": [
        "for i in pressure_list:\n",
        "    if i >3000:\n",
        "        print(i, 'psi', '---> high pressure alarm')"
      ],
      "metadata": {
        "colab": {
          "base_uri": "https://localhost:8080/"
        },
        "id": "UH0jLPFjlQ59",
        "outputId": "5ef6cbcd-814a-4bbd-9a75-f59a3a1f1c9f"
      },
      "id": "UH0jLPFjlQ59",
      "execution_count": 40,
      "outputs": [
        {
          "output_type": "stream",
          "name": "stdout",
          "text": [
            "4000 psi ---> high pressure alarm\n",
            "5000 psi ---> high pressure alarm\n",
            "6000 psi ---> high pressure alarm\n"
          ]
        }
      ]
    },
    {
      "cell_type": "code",
      "source": [
        "word = 'Reservoir'\n",
        "\n",
        "for i in word:\n",
        "    print(i)"
      ],
      "metadata": {
        "colab": {
          "base_uri": "https://localhost:8080/"
        },
        "id": "i7m_HPXfrSPu",
        "outputId": "c5967203-ecf3-40b0-b000-1400e0a1a195"
      },
      "id": "i7m_HPXfrSPu",
      "execution_count": 94,
      "outputs": [
        {
          "output_type": "stream",
          "name": "stdout",
          "text": [
            "R\n",
            "e\n",
            "s\n",
            "e\n",
            "r\n",
            "v\n",
            "o\n",
            "i\n",
            "r\n"
          ]
        }
      ]
    },
    {
      "cell_type": "markdown",
      "id": "730ac440",
      "metadata": {
        "id": "730ac440"
      },
      "source": [
        "> # Function\n",
        "Functions are blocks of code that can be reused by simply calling the function. This allows simple and elegant code reuse without explicitly rewriting sections of code. This makes the code more readable, facilitates debugging and limits typos.\n",
        "\n",
        ".....................................................................![image.png](data:image/png;base64,iVBORw0KGgoAAAANSUhEUgAAASkAAABnCAYAAABcvLQqAAAAAXNSR0IArs4c6QAAAARnQU1BAACxjwv8YQUAAAAJcEhZcwAAFxEAABcRAcom8z8AACpzSURBVHhe7Z0HWBRXF4ax5I8VS0yMMdaImlixJPbYe++9oygq9l5RscTesIu9K/aGJZrYjVGx0kSKggICgjT9/nvO7iwLLggK7BDvq+fZmTuzM7PD3G/ObeeaQCKRSFSMFCmJRKJqpEhJJBJVI0VKIpGoGilSEolE1UiRkkgkqkaKlEQiUTVSpNIC77WfEskXiBQpiUSiaqRIqRyne05YvGgxhlsPh9VgK1hZJc6GWA2RloBZDbLCIMtBGDx4MIYMGYK5c+bixvUb2rsukN6rapAipTa0mSM6OhoLFyxEgfwFYGJiIi0VLHeu3JgyaQrehLzR/BEkqkCKlEpZvnQ5MmbMiAwZMqBTx06wnWWL+XPn8xs/MTZv7jxpCRjdS7Z5mnvaq0cvZM2alcVq6uSpiIyM1P4lJMZGipQKefzoMQoWKIh0JunYmwp/G67dIkkpoqOisdl+M0yzmyLPN3nwz63b2i0SYyNFSoVs27qN3+j16tZDSLAseqQ4ShFbCFW7tu343i9auEiTKDE6UqRUCFWUU0YZOmSoNkWSWkyZPIXvvfXQYdoUibGRIqVCFJGiFj1J6jJj+gy+98OGWGtTJMZGipQKUURq2FCZUVKb6dOmazypYfLeqwUpUirEmCL1/n0qdRDSP42K+iTNmKbxpGRRWz1IkVIhqSZSxhQH/XO/E6YSoVJEijp8StSBFCkVkpqelO8LP6y2W4MJ4yZg145d3Ik0tbh+7To2btiI99HqcaWkSKkPKVIqJDVFatLESahYoSLGjB6DpYuX4m0y98mi/kb79u7TrsXm1s1b2Lp5q0akpCcliQcpUiokRUVKKwaurm4YO3Ys8v+QH+XLl8e4seOwaOFiuDi7YOuWrQgP14jVieMncOHCBURFRnH/rbOOZ7ly2W6VHQIDAnmfqKgoHD50GGPHjONhJdeuXkNoaChWLF+BWrVqwayYGUaOGInJkybjqftTOD9xxqgRozBh/ATs3b1Xd03vRbHv5IlTLJjUE/yZhyenOxxwwLmz57Bx/UZMnzodD+8/5PSUQIqU+pAipUJSQ6Tc3dwxeeJkFC1SFLVq1sKkSZOwft06XDh/AeblzREYqBGgvr37CvEZi8iISCFoP6J+vQawGjwEpUuVhv0me95n1YpV+LnkzxhoMZDNftNmvHnzBnZ2dmjSpAnvO378eNjMsIGHh4cQSFf24OrXq4/q1WoIcdJc1EEHB1Q0rwiL/haoW6ceOnXsjOfez9G1S1eUKFESI4aPxO+1fkfHDp1SrBe+FCn1IUVKhaRmca9dm3aYYztHuwb2gipX+hWvX7/m9UEDBwmPZyJC34Til59LscdEjB83HlOnTOXBuLV/r43Vdqs5nYgIj9AuAbt374blAEvtWmyoqFendh2uOCeh6tK5C3tihLeXtxCqOti/bz+nU9QCank8dfKUuL7KeOX3ivdLbqRIqQ8pUipEEanhw1K4M6dwYFq2aMkDahWuXL6CX4VIvQ17y+vk1UycMBHBQcHsxXg89eD0WTNncdHL/5U/qlWpFjvMiR7r1q5jb8wQdivthBDV5WUaktK0SVNs2byF14n27dqzt9ZJeE5K+pkzZ1BDeF8v/V7yenIjRUp9SJFSIakmUoJGDRuxV6RAFd1lSpfF8WPHceLYCRQuVIS3hwSHoHLlynjy+AnvR17UuDHjuD6qW9fuXCT759Y/uPPvHTjdddL1t9q5Y6fwtOrg9j+3WeBC9MKgUKSHalWr6faluqhWLVvj7p27XC9WvVp1XP77skhrpfPUjh8/jkoVKsHP14/XkxspUupDipQKSU2RGmAxgM+nEBwUghHWI1C9anXeRgKxbOkyLu5RyBiq+CaoUnzB/AW8/O/tf9GhfQfUrV0XzZo2Y4FRcHVxReeOnVGzek1079oDTvfua7cA27dtR4/uPfDuHXWUAtxd3dnrouM0qNcAGzZsYBGkYH+7d+3mfS5dusSeVYB/AK8nN1Kk1IcUKRWSmsU9aqHTBXnTaAXevn0LL09vBL8O5m0hISFcZ0RFOyqWESRa1IKnVMRT8dDLyxs+3j66lkEF8sI8PTzh7e3NFfAKYaFhQmwCNcdQjiPO7fnMEy99Y4pzrwNf64qf9H1aVyrbkxspUupDipQKSU1PKhZ6YpEgWjFjaDm+79A2/X3jQ9kvMedW9knMvp+AFCn1IUVKhRhFpCjTkymior8cFz1RYY9Gb10f2sbb46THgrYp31X2U45niHjOlVxIkVIfUqRUiNFESk8cqDJbV6TSFxBCb1/uLa73PR0imbZRB02Dg5YpSTH6rv4uho6nkNC2ZECKlPqQIqVC1CBSunVCERMFZZv4jOVJ6aPsI0yKlORzkCKlQoxWJ5USGNAnNSNFSn1IkVIh/ymRSmNIkVIfUqRUiBQp4yFFSn1IkVIhUqSMhxQp9SFFSoVIkTIeUqTUx+eJlFIpKj7v3XWCw0EHjjmkdtuyZQuOHDoCF2dX7Q9QF1KkjEdaECnqle/v78+RIF69VK/RIPBAZUTBZ/DZnpSvry+Hni1QoCD/cdOSlSxZkoOr0fAMNSFFynioWaRevXqFlctXok3rNvjt199QuWJlVFKxVTCvyIPE+/frz8ETlTGaSeWzRIoCo3Xv1p3/qNmyZufBpb169dJYT3Va7169+bNOnbo6sZplM8twXx4jIUXKeKhVpNzd3VmclGc2c6bMMM1mimxZsqnXsmZD+vTp+XqzZ8uOP+b/8UlC9VkiRUH005mkQ4H8P+L40eOIiIgJdqZ2KHLkmtVrkSlTJr6Bf174U7vF+EiRMh5qFCkq3vXs0ZOvq0iRIli5YiWHvnn86DEePHiAB/fVZw8fPGQ7f+48Tw/2v6/+x/ksvnj3CfHJIvUu+h06tu/IN27hgoXa1LSHRf8B/BsolpFakCJlPNQoUhRTK4dpDuTNm5czfVpk/LgJfF8pEmvQ6yBtauL4ZJGKDI9Eld+qIF26dDh96rQ2FbGHSSTFjMSunbv45rVt3ZYnGzAOsYuaUqSMhxpFikosdE0UqZTGQqYptI82TfDxbZ7vYGpqyl5gUvhkkYqKiOLKu68yfBVTVKILiis+iTUjccjhED8ALZq3TAWR0v7FYmnSe/FP3AC9py9VRCq2LqoTI1xjqooU/T7+jboFg795xbIVfE0U/C9NofdbKPy0WbHi+CrjV/jrr7+0qYnjs0SKPCkSKZryiKGL0heepJiRUESqZYtWuoBuKYe4Qe+jhR69Q4TwRJW09xDnTW2Rkhgk1T0pA6IUlxXLV/I1peWp3ynwIc0oRCL1919/a1MTx+eJ1K8akUqSJ6UQX3pykIg/vILDwYNakWqZOiKFKD7PuvUHsGlHTDFZ/5pTWqSeP3+Oi39exOHDh3n2F7UavUAcHBzgeMZRF7Y4pTFGce/BYx/cc3muXSPoYYh5IP5LIpUxY8bU9aSouJcxQ8bEi5TYTmVTegB1s9Yq25KTuNeRAA4HD+iJVEoX9+hiNB6U3ZqjyFeqI5ZtvoioONeYUiJFc9WtX7ee57aj46clK1miJGbNnM19hVISY4jU2q0X8FuD0dh15Dr51FroIdYgReoTSbJIaXn04BG3Bn6S1xLzd4sXagmJhd65DRHbk0oNkdKc4/5DHxT+bRC+KtgZs5cdQWRUzI9bkgIiRQ0atrNsuaGDjk1CRZMsUN+bNq1UaHRdwlq3ao0a1WsgQ/oMfN2WAy05vnpKYQyRevLsJcrUHIGvC3XExLkb8Mo/dutXmhKpePKo+kSKPuMYBfZfv24D1qxeg+PHT3AaeVP03dv//IsLZy9g7569HOyftt26eYunR3I87YhjR49xayJ1uLxx/Sbu3bsnDgqeCOD0qTPcY/zWrVs8/XeRwkUwbeo0rFy5kqdY4vMngCJSLUSGDY9O/uKe9ud/QLg4VTurtTD5pjUyFWyHYdN3wi9YM9nAksWL+JqshyXf5KB/XfoLuXLmQpYsWYQILsGL5y+0W9QPVbru3rkbeb/Li/RCrJSZY1KCxIsUPcDaRcbwg2Y49UNmrjwFk+86I933rdCk2zT8dVszxTyxbOnyFBOpixcvwtMz5lyfCuVVmoosPtQnUga4fftfni2XptyuUqUqp70T5Rya9+3Xyr+hT+8+vI0moiRGjRwN83Lm3KO9XNlyWL92PacPHGCJaVOm8fIzj2eoKo5F87mRwNG0SdRhjGbUbdyoMfbu3sv7JYTDAQd+AJq3bI13QgRv3vfA6Dn7MGLWPoyy3S/sgM6GzdyDIbFsNwYLcRkwZauwbbCctgODhFlO246BYt1CpPcetxG9xm5A37Eb0W+MPfoLsxizGf3Gb8fPDWyQvmBvmPzYHSb5u6L98HVw8QvE4hVL+JqS05OaNGESH7N7tx7alLQHjQyg39CubftP88QTwUdFSnnGlZcxkzgpor2ixDMWFh6Fl/5v8NjVC9duu+Lc5UeYtvwkspXsBZPvu8Dk23YoWH041u+8jCiRR1YsS9iTUgZLkBAcOniIx6fSVGIE5Y0rV67yMrVeUz8rmh2axv1tWL8BJcxKoFvXbli7Zi0PXfHy9OI6QHISaMox6jBKBAQE8BT84W81HbZpMljqrEmz9+zdK/JejRqo83sdngyWpjSja9EnTYgUdYen6bdpssgG9epr0iLfoUH9BujRowcPsdmxbQfq1K7Lb07qXElDWGi67832W3guNiqyDBsyDDYzbPj7NPVRrRq1uJ4rOvod7t29x9dEN5jOFZ0Iz0gRqRYt2vD6xj0XxUPSHiY52govp4MwsfxNO81ybrEc13KJbTnawMS0tcZomSy7dt1UHIcsO5k2LZuwrMLy9kC6ogNgUsRCiFRfcayWWGB/HMvshIclrml4MnpSbduI84tjLl2yVJsiSODvpRroGrWZ8PzZ8/wbSv9SOsWKfIpIDbVKenM/6WZIaBR8/ILw5OkL8cJzh+Plx9h++B7mrTmDEdO3oL3lclRpPQvlGk5AserWKFDBGnlKDUGWn/oiXeHuSFfIQlg/8Wy1RLGqg+HmFSJKH+s115SAJ0X3g8bI0cSplCfq163PVSv0fHfv2p33oVEW5BRQnbDLExcexpbnmzzCOSiDenXqYfKkyThy+AgKFSzM1R80cWvjho15Ita7d++iaeMmPHCYGNDfArNnzeapxnp274n8P+RHYfE9cg7IsfB94cv7KahHpBLBwQMHWZgIOgbdNJpokiAFry8EjCZ+JJGiYSsEqXbV36oK1Y7CsKHD+OYQ3l4+7D0ps+o6OzuzZ0WfiSVGpFrz+tFzd2HeeBJK1R+Pso0m6axck8mo2GxabGs+HZVb2qBKm1nCZqNK29mo2s4WVdva8nr1dnNQo8M81Oo4HzWF/d5xLmoLq9N5Hur2XIoCtabApGAfIVDCm8rXFS17z4PzU1/YrVjF15ScxT2qf6JjKjMBp0WuCo+AfkOJ4iU+eFPrUERNK2zsZsRNSwBbG1s+x7ChMYJAX6PGDT/h/Txy8cVf151x5MwN7Dh4CUvtL2HKknMYOv0AultvQJM+q1CxpS1+qjkWOUsLsfmhk3jBiRcEvehyi8/ctC4852+6CesqTHhPecWLKn9/pCsiPgsPFN/piWzFemL+6uOIFCdftWK15poSEKmd23eiXJlyosh1h+dKJOGgqfCphZQmUyWoeoSmtSdnQKF5s+bYtHGTdo3ypwMLzoXzf3IUAxIpciyc7jkJ4aunEykq+UyaOImXCWvrEVz6iY80JVK7d+1BXfFjCToGzVS7ZLHm7U5Te1O3efKqxo0dB6tBVtyaM3fOXB6CQ3VS1kOteWZdir6waOFilPqlFHtSBIlV+bLlcVi8DegY/Lb9yIOpiFSrFq14qM+bt1FwffZaWGCMeb6Gm7Cn3sEfmIdPCDx9Q+HtFwqfl2E68/bTfL7wDxcWgRcBEfAT9jIgHAHBEfAMfIc2Q8QbMrd4ePO2Rxfr1XgujkMsWaSpk0rO4h5VRtMxV6/SE6lEZFo1oYgUtfTFK1JJICL6vfB8wvDKPxieXq/w5MlzWFiMEedIh1oNO2LxlrMYNmsnOg1bg0bdluDXZjNg9vtYfF/ZCllL9kTGQqJo9gMJjRAeU/F3zNwSJpmE5RBe97dChH7sjQxmA5ClzGDkqTIGRRvMRCXx8mrYYx7aDbaD5ZQ9mL7qDNYcuI6tx++Jl56N+F4P/C9/F0z5Yy8itQWB5UuX8u9OSKRmTJ/BXowCVY8MsRrKY+XIsyGoNNO4URMWHYUmwjvasnmLdg3Yv3c/KlWshLdvNRO8UvUARV4gkWrUoJHuvlsIT2rKpCm8TFDxeOyYcdq1D0lzIkURCAg6Rj2xTE3uBFWQ165Vm4t45HqWFG/MhuLGUEvUyeMneZ+D+w/i5xI/o2bNmujVo5dwbyuy60oEBQWhf9/+KFa0GCqYV8D2rds5PSH0RSpaeSpSgafeQSjbcBzS5W6OAWM3wDcwZnD2whRo3Uu0SCVGuBLaJ+62pK4nQIwnJUQqKFibGj804D7gdQSeuPvhxh0XOF66jV0Ol7F8/WlMnbMH/YavQ9Nu81Gj1UxUbDgZJaqNgGnequIcmUVxvKQQmY5CgITgmArhydJCfIp7SEX8b0X6d0KY8nVD5hJ9UPA3a5g3moo6nf5AW8uFQnzWYcrSA1i5/QL2nLqDM9fdcPX+Czg9fQMv8cJ6ExkpPKR3sUranoGRKFlrLNLl7IwRU7chJDympXnZMs3zQFUd8UHCQ54UTXlPjU9du3TDTJuZHOOtedPm/NI+63hOeEk/shApNGzQELazbfkFTX8Lyl9mP5lx8c7V1Q01RdGR8iUNZK5WrRoePXyER48eoVSpUpg6ear2KOCiKE2ZHx4ewfVUfDw90pRIUT0S7y9uCNUx0fLjh4/ZS3ru85zXI8UfkYo61Fp3/PhxXL96XfttcIUpVeAdPXoUfn5+uHTpUqy3KqUd2H8AmzdvhvMTUeyjTJBARlBEKjV6nOtfxva9V5HDrAOGz9yMkLDY512cEp6UNsxHsnhSes/flctXEJVK4q6IVHGzEqJIE8IV0P84eePMn4/hcPQWNu/+G7PtHDHSdh96j1qL1v2WoGabBfi59hTkLTMQGfMLcckpBCenKPqS8OQUxa9cQmxydRbCIz5/ENuzlRXnyIyv85SBWbXBKFd3PGq3s0FbiyXoM2Y9Rs3chnl2x7B65yXsPHoNJy/fx80HXvB6EYqwmBnkPwLdQMU09+7A2cfIWrQnug5chYCQ2F1hli/TNKQMTUCkaCr8ocJzou4aVK/bpFFTFhQ3N3fUEyUXqn/q0a0nChUqxFUuCosWLkL5cuZo2bIVli1ZxvVV1IraonkLIVA10bd3X55unxyAzh07i+PXFMfpgeLFisNmuqZumKBiZTlRimnSpCkGDxqsKxYqpCmR0kEZRF9s42QYEim7lXbatZTDWCK1dt1J4dJvxZs4bxxi8aKFfE3JKVJtW4viSAIiRQ+R010nvPB5gVMnTnGXBWUsI9URUtqlPy8hLEwTIPDZ02fYbL8Z5ubmIhMtx7EjR7kZmlqOlDpCevH8K9KCAoNA3U2oiZq2U182Oh6NhqfIjU8ePeFWqDOnz8BdZKr40ImU8LAjw9/ivqsfKjSejOxmA5G5SF9kKNATJt+LYlYu4e1kFp5PxmbCI6L6ICFC33dHhsJ9kaWkJb6taI1CothWutlk1O44A817z0Kf8atgY3cYjdr1FedIh45dLPHk6Su4eAWJYnoYQsOjuXj44V/LEHRjhdGHeBFzvRh9kZM1YzVpKBT5UsoRZy47hIbdZsPDW/vC1TsR3V+NSMVf3COoKw6NJDhx7ATfZwVqoXM85QhXZ1c8cHrAFeEKYWFvceXvK+xxkajt37cfZUqVwamTp9kZCHgVoN2TuhF54bRIp6Kfsyi9eLh7aLdonAfy4kisLl64yB2H9Um7IqWYAaiPU1IqwD+V1BQpfUKCI/mh10APbgwp4UkprXvxiRQJzC8//8Jxi6hho0vnLtxC8/LlS84crVq25kYN6mMVJe7TqZOn0KBBAw4hUkO8celNTBWw8+bO42I4QfezarWq3CpH7j+1FlFDSYd2HbgF6k/xMF8SmYrOS3Uc1HWEzuHm5sbfj0tMcY9EKgyP3QORz9xKeEXCA/q+NzIVG4QfRNGrdJNpqNl1CVoOXAuLyVsxYeEBLNx0DhsOXsMBx7v48+ZT3HX1h6d/JN7G6b9rM3sOn2OE9UhtSkKIvxsJkPbvp7mdypIw2qa3qjNWIJ1qUQJu3hUC4qbtuxaTzCRKpPT2TxRxzqFAdVhUbKQXy2cR5/gkUvR3TlsipRJ0dVIik6WmSCVESgyL+Vhx786dO/ip6E88bIYaK6izJwVbo5ZX6qe2bvVaziT0AD/VvkG9nnlxkeDWzX9YuAjqy6QTqehoDh9LfXOo0ta8vDkfw9vbGz7ePhyn+8Txk9xXhzoV0tv/18q/8tvYEPqeVKgo3rx5E4mtuy/AftdfOOp4H+cvu+D2fU9u6HgV/B7UYVbPIUkUM21stIKg9JMSN4nnildMyX2KEYbSiLjpCZkWvUUFnUjptTjGgr6jaN5nwlUu5y9yFx5GuTz9Y8ddjrsPfca58UbxpKgHeOVKlVmk6AFLqxx2OMwPQOoMME4cxhCpmzduct0FPUz6UGuqWTEzdOrYCa1ateKmbS8vL95GTdTU0PHkcYzHS/UU1L9N4fdav/NLjIqOtHxKL/YYsW/vfl0TOdG0SVMuchhCX6SCkxg4TYd+huKimPhPy1pm2szWCIJS/6PsS5ZMQpAgynn0zkV1RXRN8XZJSYlr0x6Tiuk6o/ulXFtCZuA6qFtE6hf3xENXvVq1D4LepTV27dAEvWvXtt0HLRLGwhgidf3GDdSqVUszLEmP2bPmcDM1eT4EVYiSh0VQNxDyfKh/mwL1YWverAWCgoK5B3Oxn8y4fov6uNWqqWkp0mfP7r08EoGIjojm1qbEiBQdn6CfwPmJ8g8vGDCRTkKkVA/F3R5bpDS92o0mUoRyPi2KSA0TLwyDJPe16d2bTzIDaOJJmaVuqBZCibusX8uf1ugpiib0GyaMn6BNMT7G8aRusUDEFSlPD0/2dKgOibxNy4GDdIJFlej9+vRjj5paj2hoBVWKV670K/d4thxgifLlynMLIHXvoONTXzh9Dh50EF5aZ16mfegcNLTDEIZEShEn+in8c5QFXonBQJJBqNmezqGr/9E/HmXAxBwkmbHfaM/XRH9Dgy9SI17bR9Fe08MHj5Andx58k/sbHhmSFD5LpHZs38me1A/5fhDLO7iZMq1AXgBNZ/W//30N0+ymnJHUgjFEKsA/gCu4aZiDDu128p6onojGZFELDg1BUvDxfs79buw32fNwJIKEijwkag26dPEStyZRUYFaixSBU/Dy8sbfFLlCnEvpkkJjMg1h0JOi75HRMifomR4GkgyiRpG6evkqcpjm5AxOdXhpDepSNHrkaL6vDes3RHDwx/u46fNZIkXlzIEWA/nkFEqD3Hmqu6A3Y8cOHbmXuNqMvAKKFU29aum6qU6Nptrh8rZKMIZIfYDYRvUQqZYpEyEAseuktA96MguHGkUqPDwcg4QHS9dVsGAhzJ87HydOnMBZx7NwdHRUrZ1zPMd9sqiDNekDtQTT2MCk8lkiRVAnMhojVCB/Ab6JaclKFi8piijrEjUQOTVRi0ilWqak82jPxVGUyQzwpYoU4ffCT1e9olj6dOl5Sjk1m3KtOXPk5Km4PoXPEym9PxiFhqAhL6tXr+FBrGyrV3P8KLUYXZvdKju+roMHD3JzqxpRhUgRqZUp6RxaU7VIKWYkaCzqxvUb0bVzVx7zSpFB2Oqo02gcbqNGjTB4kBVXJehI4j38bE9KkvykqEjpR0EwYoYzCF2P2kRKhVBXGapqoe4iVJIJEcsUhkVtRtdGveBj8Ql/KylSKiQlREoJ1UIepQ4VipSuL44Brl25xr/BzKz4Fy1SXxpSpFRISogUNRbQMan3sg61iZQiOPGIFLX80W+g8DwhQXpj3KRIqZNk+rtIkVIhKSFSE7TTXPfqqRmyoko+8lDPmzuffwN5hTTigZEi9Z9HipQKSQmRokiLptlMuZVltd0a7heVVqB6DWrKLlyoMHcZ0cUJU7wuKVL/aaRIqZCUEKmIiAiewIKarenY1atW54iN1KxNwco01pPTOF0sx6SnrNH5lE+aFEAxSqProJasr7/+mq/bop8FVxozJFBSpP7zSJFSISkhUgTN9LFs6TKOdkDHT0tGgdgmjJ+IV8qwHUWgpEj955EipUJSSqQUnj17xtMVUVRGmqiVbMEfC9RpCxbw2DUKZ6uDRCmuJRNSpNRHkkWKgnxpAn3RiuaDoIGPnJ6IB4b2o/hCOpTDxU3/CPGFVolWWQ/ypJLSIiWJny9JpAzmNb28qBaSLFLUgYxmb6FQrwo0MeemDZt04kATD9Lg0vig/Sj07Bb7mFkqLly4wEURGuAaFRWF69eu486/dzXjx+KBQnqQF6CEKqWwtXNs5/CgV+Lhw4e4cuVK7EGzaQApUsbjSxIpf/8AHtJGEVL1oTjnq1auSpLDkJIkTaSEXlAcKZolgmYdphHtFIKhym9VoEx9TcJAg3jnzZnH6/FBs1uULV0Wt/+5zTeLwsaS+FFEQBIrmtNr9KjRQogOaL/xITTanmY9pphQ1AmQgsZbDrTkECIU42rsmLFsSxYvSbHJJFMCKVLG40sSKZrZhabBatO6ra5UEhQcxIECKN+ohU+qkwoMCOQIioMHDubWF5ojjyAPiMbGUV8cCiObEKTSFKKVJhkk0aOY2tTU7OvrhxXLVnCQfpoUlKZVpy728UH71qtbn1uuqBXIw8ODi54bhWfn5OQEP9+X6N2zN+473dd+Q/1IkTIeX1qdFMX3KlK4KK5dvcbrNCFDUbFOzoNa+OSKc4q2mD1bdvEDi+Cp21NOo3IsFa3IXaQIhx/DxcWFW5py5sjFgkToB/Wi4GejRo7i5vP4CA0J5QBr9GBtWL9Rm0rXArwOfI1NGzcKl3Y2x9NOK0iRMh5fmkhRdw6aIIPmuXwnSiMD+g9A506d2eFQC58sUps3bWaBoSD6sUY4CyhmjM0MA9E641Qv0dQ3FJyfYh9v2mCvTdVA0ytRrGxF4ePDzdUNdevUQ96832PyxMnaVA0U2H/UiFGcTuFL0wpSpIzHlyZSBL3Eq1apysOOqlWtLryrE9ot6uCTRIrmT6tYoRJHapw2dToaNWwcazJAmvfLdvYcXqaofB4ez3h+L32RIs+GZlalAF50HDoezedFUNgXekhOnzzF61TfRPOycS9pvWNQkdFqsBXXQ1E8bZpinQJtUfqtG7d4XypCUodF8vwUKEY3TZtE2yLCI1noaJ58ulZ3d3dejiuoqYkUKePxRYmU9hl/cP8hT+xJE2XQGM+4k3EYmySLFNUVdevaHf379ed1qvOhWU1ptmEqqrk4u2DihIno0L4jT0pI66TOFGtKgVr3yNOieempfisiPJzHY1H9lrPYn8KK0MQIJDw3b97Ei+e+aNSgMSZNjJl7nrDfuJkr8O87PeD1CeMnoUH9hnxOqoSnCnN74fGNHjUmVkhamgyRInOSJ+d07z5P00TeIE2OSOnHj8aOw53aSJEyHl+iSBHDrYfz76ZGK8aIL+m4JFmkXge8xpFDR2LFqqZKNuqSQCLl/NiZpznfs3sPt/yRKpOg6cZbCaiFkFrf7okinQLNYnvE4Qhcnd2wb88+nlXk2JFjHN+ZvLBpU20wYvho7d7iHoqbeOE8TS4ZM/OE/8tA7N29H75C1Ciu9rHDx7joSV6YPjSnHHVfoN9AHiDF4/bx9mbBpOvWn5nVGEiRMh5fYnGP2LplG34p+Qu/qNXGJ9dJJRaqvN64YaOucv0DSLE/0h0jMiISK5atwo1roghniEQcIy0hRcp4fIkiRSUbS8tBGDJ4iKo8KIXPE6lE/CDypJQwvbS7YgR3aqUgZ2JBl6b91CfsbRh3LUgQ+qKhLxtCf7/EficVkSJlPL5Ekbp69SrKlCojSkMx8yd+kJ2UhPjyy8e2fwYp7kklDLk/in0mn3KDSBxV6IFJkTIeX6JI3b79L3Zs34awUE1/RIN6YzAxdTCKSGl+J6kD9XJVLHl/fUQ4zWQTjZf+YfD0CYSzmx9u3vPB2esuuHX/Gd5GiHOqVqQWcUYZYT1CmyJJLWgGZrr3Q6xE0eeLQ+MwGEmL4sXIntTHoSJhVOQ7vAmPRkBoJPxeh8PrZSjuPHqJi9ef4tCpf7Bhx1nMWXEQo2ZuxeCJ69Fn2Ep06rcULbouRv22tqjaZDJK1RiNQlVGIneZ/jCvMxR37msq/rnIqTKohYUzCtURSFIVGrnAXqz1f9iL5YdesUS+pcU7PUrkwTchEfB4/haXb3lhz6EbmL/yMKynrEfXwcswecEBhIQlf4ZKPZES1x4eHomgoDd47heAp94v8djdBzedPIXYuOHon87Ycewu1uy+gqX2F2G78gTGz9kNy3Hr0GngItTvPAeVmk2DWQ1r5DPvjzyl+8G0RB9kKtoN6fN3hMl3XWCSW1iOTsLawyR7B2FiOZvYRpa5HUxyivQ8rVG0sgVuO2lbJ5P/nn42e3bt4YxSq+bvaaoTalqHWp2VWXVixYL/AqCRIq98/eHxzBdX7vrg8HlnbHG4jkX2ZzF54XEMGLcdzXsshHn9sfixghVy/2KBTIV7wuR7kcdyirz1VWvkKjcUPv7JXzRJtEjpnzo6EggNfQf/wAg89w2B5/NAPHQJwrXbvjhz0QUHTzph465rWLj2HKYtPIKxNnswYMxGdLEU3k13W9RoNQnlxI8tXMUa31UYhFzCu8lUoi/SFRE/Op8QlG/aCsERPz5XN/HZXXz2EMIjlslydRVCI9Ly94JJ4T74urgFspcZgjzmw/Djr0NRss44VG0zCw27LUC7gSvFzd2KETMOYOqiE5i7+gyWbzmPM38+AAdOUF4miqkEdzd3FPupGNKlS8/FD+qbJklZaHwojTvNkjUL8uXNh3t37mm3qJxEPLuRUe8QGBIOn1eheOjuj0s3PXDg+F3YbbqI2SJfWE/cii4Dl6Je68koV3s08poPFw7AYGQoJPJdHiFAuTqLPEnLwnKLPJhHWIHeyFp8IL4tPxRFqo5C+fqTYDV1OwLfJn9GSrRI0alDwqKwYsMZdB6wDC37LEbt9rNQuekElK43UhSlxuD7CqOQ85fB+F/RfjD5QYgI/bis4kdmIxNvqGytNZ+mYt1UeDo5xPZvSXD6IcNPvZC5RA+YluqDb8v1RtHqVjBvOgV1ui5AS0s7WEzahpGzdmHmylNC3S9i1a7r2Hr0HhzOOuP0VU/8/a8PHrj4wM3zJbz9guD/OlRcbwQSiPQS8wdWTEVQoLdMX2fit3rDBo0wcvgojBk9hiNDxGe0XVoSbcxYjBwxEs2aNteFVqZwP2oJU/JRdM+u5npfvHyLIxfdsXL3dUxdchTDpm5DtyF2aNx9Piq3mI5C1UbimwoijxbrI8RGOASUD7OLz5zkFIiSSE5NnvyqYD9kNxMiVHYgzH4fgpqdpqPTyNUYMW8//lhzFpv33MIRkff++scHj1x94SW8sNDIyMQWHpNEkop7zm4v2fsxSd8UJlmE4GRpJUSopShKtRAKK4Qnn/iBBXsic/F++FbciB9/G4KfaoyEeeMpqN1uNpp1X4j2FivRY+gGWI7dhFE22zBr+TGs2HoZ+07cgePfzqL45wd3b+F6irJvQGiUUOZoBEe8T1hsPsIHX1X+sHFNRdBgbZrIs0TxkpxxpKW85c+fH7azbREerolPljagRieaOecdggOC0bHXHJEH+8KkkIVwFHrD5DvhLOQWJZQcogSSRYhRFpFPRREtk1kPfGNugZ9qDUflllNRr8cf6GC9Af2FV2Wz7BDs913D6cvP8OBpGF5QXgwX+VBkwo8NO36f/G1gSfOkgoXLaL/7KmyWnIDtytOYu+qUsJPCTmC5/QWs33MNO4/exSHHB7hwwxU3H3jinusLOHsFCoUPRVBwNMLE3z9pgqMoCGk03QG6TfSpp9nUSid2oZY6/hRJmr3f86duT+VQhkylUA9+Cg5Iw3xsZ9lyJtK3ObPn8JufbO6cedKSYHNsxT0V92/e3Hkc2ueufhFP7/FSN3ShmighL7z90bz1KOQu3hX5yvbFd2V744fKA1Cl7TS0F97U0Om7hRfkiM17r+Cw411cvOGCu0984PHiNfyC3yLJoSGVzKbNP7yYAnkpSSKV7Cg/kE3cbJJhNpEQr9G+cdfjmCEM7RfXJJI0CQmVeCGLt/8L3wC4PKNqjxdwffYcbt6+8HsdgjfU5SZRUEag42mO+TH0s0/ivpF0kiRSKXEBn47mipTr0jeJRPIxtDnlMzPPJ34tSSSpTkrV6N9o3Z2LtSKRSNIgUqQkEomq+e+IlEQi+U8iRUoikagaKVISiUTVSJGSSCSqRoqURCJRNVKkJBKJqpEiJZFIVAzwf4OOQkjzEZhmAAAAAElFTkSuQmCC)"
      ]
    },
    {
      "cell_type": "code",
      "execution_count": null,
      "id": "bc441df3",
      "metadata": {
        "id": "bc441df3"
      },
      "outputs": [],
      "source": [
        "def hydro_p(density, depth):\n",
        "  '''Calculate de hydrostatic pressure for your well control;\n",
        "    Density unit [PPG], Depth unit [Ft], Pressure [Psi]'''\n",
        "  Press = density * 0.052 * depth \n",
        "  return Press"
      ]
    },
    {
      "cell_type": "code",
      "execution_count": null,
      "id": "46fa2bc8",
      "metadata": {
        "id": "46fa2bc8",
        "colab": {
          "base_uri": "https://localhost:8080/"
        },
        "outputId": "f5a86cf9-0ef2-4d1b-dc37-4991e0a5c4e2"
      },
      "outputs": [
        {
          "output_type": "stream",
          "name": "stdout",
          "text": [
            "Hydrostatic pressure:  1684.8 psi\n"
          ]
        }
      ],
      "source": [
        "fluid = 18\n",
        "well_d = 1800\n",
        "P = hydro_p(fluid, well_d)\n",
        "print('Hydrostatic pressure: ', P, 'psi')"
      ]
    },
    {
      "cell_type": "code",
      "source": [
        "def well_control(p_hydro, p_form):\n",
        "  'Information about the well'\n",
        "  \n",
        "  if(p_hydro > p_form):\n",
        "    print('Everything is OK')\n",
        "  else:\n",
        "    print('You have a possible influx')"
      ],
      "metadata": {
        "id": "rkUvRDdjHfKE"
      },
      "id": "rkUvRDdjHfKE",
      "execution_count": null,
      "outputs": []
    },
    {
      "cell_type": "code",
      "source": [
        "pf = 1900\n",
        "well_control(P, pf)"
      ],
      "metadata": {
        "colab": {
          "base_uri": "https://localhost:8080/"
        },
        "id": "VOKHrGGZHe60",
        "outputId": "598ee953-7a13-41eb-b0e5-7d327d49af97"
      },
      "id": "VOKHrGGZHe60",
      "execution_count": null,
      "outputs": [
        {
          "output_type": "stream",
          "name": "stdout",
          "text": [
            "You have a possible influx\n"
          ]
        }
      ]
    },
    {
      "cell_type": "markdown",
      "id": "018d6b08",
      "metadata": {
        "id": "018d6b08"
      },
      "source": [
        "# EXAMPLE"
      ]
    },
    {
      "cell_type": "code",
      "execution_count": null,
      "id": "611a6e99",
      "metadata": {
        "id": "611a6e99",
        "outputId": "db98c524-e498-41bb-d20e-c50030cf51cd",
        "colab": {
          "base_uri": "https://localhost:8080/"
        }
      },
      "outputs": [
        {
          "output_type": "stream",
          "name": "stdout",
          "text": [
            "[249.6, 748.8, 1497.6, 2293.2] psi\n"
          ]
        }
      ],
      "source": [
        "# List of mud weight\n",
        "L_mud = [12, 16, 18, 21]\n",
        "\n",
        "# List of casing seating\n",
        "L_casing = [400, 900, 1600, 2100]\n",
        "L_ph = []\n",
        "\n",
        "i = 0\n",
        "while i < 4:\n",
        "  L_ph.append(hydro_p(L_mud[i], L_casing[i]))\n",
        "  i += 1\n",
        "\n",
        "print(L_ph, 'psi')"
      ]
    },
    {
      "cell_type": "code",
      "execution_count": null,
      "id": "355bef62",
      "metadata": {
        "id": "355bef62",
        "colab": {
          "base_uri": "https://localhost:8080/"
        },
        "outputId": "0afc18ff-0dae-436b-c73c-a586d3980aba"
      },
      "outputs": [
        {
          "output_type": "stream",
          "name": "stdout",
          "text": [
            "In the stage[ 0 ]:\n",
            "Everything is OK\n",
            "In the stage[ 1 ]:\n",
            "Everything is OK\n",
            "In the stage[ 2 ]:\n",
            "Everything is OK\n",
            "In the stage[ 3 ]:\n",
            "You have a possible influx\n"
          ]
        }
      ],
      "source": [
        "L_pf = [200, 600, 1200, 2500] #psi\n",
        "\n",
        "for i, p in enumerate(L_pf):\n",
        "  print('In the stage[', i ,']:')\n",
        "  well_control(L_ph[i], p)"
      ]
    },
    {
      "cell_type": "code",
      "execution_count": null,
      "id": "01d35073",
      "metadata": {
        "id": "01d35073"
      },
      "outputs": [],
      "source": [
        ""
      ]
    }
  ],
  "metadata": {
    "kernelspec": {
      "display_name": "Python 3 (ipykernel)",
      "language": "python",
      "name": "python3"
    },
    "language_info": {
      "codemirror_mode": {
        "name": "ipython",
        "version": 3
      },
      "file_extension": ".py",
      "mimetype": "text/x-python",
      "name": "python",
      "nbconvert_exporter": "python",
      "pygments_lexer": "ipython3",
      "version": "3.9.7"
    },
    "colab": {
      "name": "001 Python Basics for Petroleum Engineering.ipynb",
      "provenance": [],
      "collapsed_sections": [],
      "toc_visible": true
    }
  },
  "nbformat": 4,
  "nbformat_minor": 5
}